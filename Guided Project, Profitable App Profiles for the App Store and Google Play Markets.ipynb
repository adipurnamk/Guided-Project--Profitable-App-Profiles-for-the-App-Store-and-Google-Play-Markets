{
 "cells": [
  {
   "cell_type": "markdown",
   "metadata": {},
   "source": [
    "# Profitable App Profiles for the App Store and Google Play Markets"
   ]
  },
  {
   "cell_type": "markdown",
   "metadata": {},
   "source": [
    "For this project, we'll pretend we're working as data analysts for a company that builds Android and iOS mobile apps. We make our apps available on Google Play and the App Store.\n",
    "\n",
    "What will be done in this project is to analyze whether a free application can generate profits or not? The applications analyzed are sourced from the App Store and Google Play. What do we do in this project is a free whether analysis app in Google Play and App Store is profitable.\n",
    "\n",
    "At the end of the project, we want to make developers understand what types of apps are likely to attract more users."
   ]
  },
  {
   "cell_type": "markdown",
   "metadata": {},
   "source": [
    "# Data"
   ]
  },
  {
   "cell_type": "markdown",
   "metadata": {},
   "source": [
    "## Acquisition"
   ]
  },
  {
   "cell_type": "markdown",
   "metadata": {},
   "source": [
    "Collect and analyze data about mobile apps available on Google Play and the App Store\n",
    "\n",
    "[A data set](https://www.kaggle.com/lava18/google-play-store-apps) containing data about approximately 10,000 Android apps from Google Play collected in August 2018. You can download the data set directly from this [link](https://dq-content.s3.amazonaws.com/350/googleplaystore.csv).\n",
    "\n",
    "[A data set](https://www.kaggle.com/ramamet4/app-store-apple-data-set-10k-apps) containing data about approximately 7,000 iOS apps from the App Store collected in July 2017. You can download the data set directly from this [link](https://dq-content.s3.amazonaws.com/350/AppleStore.csv)."
   ]
  },
  {
   "cell_type": "markdown",
   "metadata": {},
   "source": [
    "# Importing"
   ]
  },
  {
   "cell_type": "markdown",
   "metadata": {},
   "source": [
    "First step, reader function is imported from csv modele, then assign it to variable."
   ]
  },
  {
   "cell_type": "code",
   "execution_count": 1,
   "metadata": {},
   "outputs": [],
   "source": [
    "from csv import reader\n",
    "\n",
    "# Open AppleStore.csv as appstore\n",
    "# To prevent UnicodeDecodeError, add encoding=\"utf8\" to the open() function\n",
    "#\n",
    "opened_file = open('AppleStore.csv', encoding='utf8')\n",
    "read_file = reader(opened_file)\n",
    "appstore = list(read_file)\n",
    "appstore_header = appstore[0]\n",
    "appstore = appstore[1:]\n",
    "\n",
    "# Open googleplaystore.csv as gplay\n",
    "#\n",
    "opened_file = open('googleplaystore.csv', encoding='utf8')\n",
    "read_file = reader(opened_file)\n",
    "gplay = list(read_file)\n",
    "gplay_header = gplay[0]\n",
    "gplay = gplay[1:]"
   ]
  },
  {
   "cell_type": "markdown",
   "metadata": {},
   "source": [
    "## Exploring"
   ]
  },
  {
   "cell_type": "code",
   "execution_count": 2,
   "metadata": {},
   "outputs": [],
   "source": [
    "# We'll start by opening and exploring these two data sets. \n",
    "# To make them easier for you exploring it,\n",
    "# we created a function named explore_data()\n",
    "#\n",
    "def explore_data(dataset, start, end, rows_and_columns=False):\n",
    "    ''' \n",
    "    dataset, expected to be a list of lists.\n",
    "    start and end, expected to be integers and represent the starting and the ending indices of a slice from the data set.\n",
    "    rows_and_columns, expected to be a Boolean and has False as a default argument.\n",
    "    '''\n",
    "    \n",
    "    dataset_slice = dataset[start:end] # slice the dataset    \n",
    "    for row in dataset_slice:\n",
    "        print(row)\n",
    "        print('\\n') # adds a new (empty) line between rows\n",
    "        \n",
    "    if rows_and_columns:\n",
    "        print('Number of rows:', len(dataset)) # will return row(s) count\n",
    "        print('Number of columns:', len(dataset[0])) # will return column(s) count"
   ]
  },
  {
   "cell_type": "markdown",
   "metadata": {},
   "source": [
    "### Exploring Apple Store Dataset"
   ]
  },
  {
   "cell_type": "markdown",
   "metadata": {},
   "source": [
    "Using explore_data() above, we'll print the column names and first three rows of Apple Store dataset."
   ]
  },
  {
   "cell_type": "code",
   "execution_count": 3,
   "metadata": {},
   "outputs": [
    {
     "name": "stdout",
     "output_type": "stream",
     "text": [
      "['id', 'track_name', 'size_bytes', 'currency', 'price', 'rating_count_tot', 'rating_count_ver', 'user_rating', 'user_rating_ver', 'ver', 'cont_rating', 'prime_genre', 'sup_devices.num', 'ipadSc_urls.num', 'lang.num', 'vpp_lic']\n",
      "\n",
      "\n",
      "['284882215', 'Facebook', '389879808', 'USD', '0.0', '2974676', '212', '3.5', '3.5', '95.0', '4+', 'Social Networking', '37', '1', '29', '1']\n",
      "\n",
      "\n",
      "['389801252', 'Instagram', '113954816', 'USD', '0.0', '2161558', '1289', '4.5', '4.0', '10.23', '12+', 'Photo & Video', '37', '0', '29', '1']\n",
      "\n",
      "\n",
      "['529479190', 'Clash of Clans', '116476928', 'USD', '0.0', '2130805', '579', '4.5', '4.5', '9.24.12', '9+', 'Games', '38', '5', '18', '1']\n",
      "\n",
      "\n",
      "Number of rows: 7197\n",
      "Number of columns: 16\n"
     ]
    }
   ],
   "source": [
    "print(appstore_header)\n",
    "print('\\n')\n",
    "explore_data(appstore, 0, 3, True)"
   ]
  },
  {
   "cell_type": "markdown",
   "metadata": {},
   "source": [
    "### Exploring Google Play Dataset"
   ]
  },
  {
   "cell_type": "markdown",
   "metadata": {},
   "source": [
    "Using explore_data() above, we'll print the column names and first three rows of Google Play dataset."
   ]
  },
  {
   "cell_type": "code",
   "execution_count": 4,
   "metadata": {},
   "outputs": [
    {
     "name": "stdout",
     "output_type": "stream",
     "text": [
      "['App', 'Category', 'Rating', 'Reviews', 'Size', 'Installs', 'Type', 'Price', 'Content Rating', 'Genres', 'Last Updated', 'Current Ver', 'Android Ver']\n",
      "\n",
      "\n",
      "['Photo Editor & Candy Camera & Grid & ScrapBook', 'ART_AND_DESIGN', '4.1', '159', '19M', '10,000+', 'Free', '0', 'Everyone', 'Art & Design', 'January 7, 2018', '1.0.0', '4.0.3 and up']\n",
      "\n",
      "\n",
      "['Coloring book moana', 'ART_AND_DESIGN', '3.9', '967', '14M', '500,000+', 'Free', '0', 'Everyone', 'Art & Design;Pretend Play', 'January 15, 2018', '2.0.0', '4.0.3 and up']\n",
      "\n",
      "\n",
      "['U Launcher Lite – FREE Live Cool Themes, Hide Apps', 'ART_AND_DESIGN', '4.7', '87510', '8.7M', '5,000,000+', 'Free', '0', 'Everyone', 'Art & Design', 'August 1, 2018', '1.2.4', '4.0.3 and up']\n",
      "\n",
      "\n",
      "Number of rows: 10841\n",
      "Number of columns: 13\n"
     ]
    }
   ],
   "source": [
    "print(gplay_header)\n",
    "print('\\n')\n",
    "explore_data(gplay, 0, 3, True)"
   ]
  },
  {
   "cell_type": "markdown",
   "metadata": {},
   "source": [
    "## Cleaning"
   ]
  },
  {
   "cell_type": "markdown",
   "metadata": {},
   "source": [
    "### Column Length Checking\n",
    "\n",
    "Because there is [discussion](https://www.kaggle.com/lava18/google-play-store-apps/discussion/66015) that one of the data column length is not same as header column length. Let's we check using this loop' how to find the mismatch row."
   ]
  },
  {
   "cell_type": "code",
   "execution_count": 5,
   "metadata": {
    "scrolled": true
   },
   "outputs": [
    {
     "name": "stdout",
     "output_type": "stream",
     "text": [
      "Apple Store mismatch result :\n",
      "\n",
      "\n",
      "Google Play mismatch result :\n",
      "Index : 10472\n",
      "['Life Made WI-Fi Touchscreen Photo Frame', '1.9', '19', '3.0M', '1,000+', 'Free', '0', 'Everyone', '', 'February 11, 2018', '1.0.19', '4.0 and up']\n"
     ]
    }
   ],
   "source": [
    "print (\"Apple Store mismatch result :\")\n",
    "for row in appstore:\n",
    "    if len(row) != len(appstore_header):\n",
    "        print(\"Index :\", appstore.index(row))\n",
    "        print(row)\n",
    "print(\"\\n\")\n",
    "print(\"Google Play mismatch result :\")        \n",
    "for row in gplay:\n",
    "    if len(row) != len(gplay_header):\n",
    "        print(\"Index :\", gplay.index(row))\n",
    "        print(row)"
   ]
  },
  {
   "cell_type": "markdown",
   "metadata": {},
   "source": [
    "#### Deleting Wrong Data"
   ]
  },
  {
   "cell_type": "markdown",
   "metadata": {},
   "source": [
    "We didn't found mismatch from App Store data, But in Google Play dataset we found one row that not have same length with it's header. We need delete row[10472] from headerless data."
   ]
  },
  {
   "cell_type": "code",
   "execution_count": 6,
   "metadata": {},
   "outputs": [
    {
     "name": "stdout",
     "output_type": "stream",
     "text": [
      "Old length : 10841\n",
      "New length : 10840\n",
      "\n",
      "Google Play mismatch result :\n"
     ]
    }
   ],
   "source": [
    "print(\"Old length :\", len(gplay))\n",
    "\n",
    "# deleting the mismatch row[10472]\n",
    "#\n",
    "del gplay[10472]\n",
    "print(\"New length :\", len(gplay))\n",
    "\n",
    "# Re-check \n",
    "#\n",
    "print(\"\\nGoogle Play mismatch result :\")        \n",
    "for row in gplay:\n",
    "    if len(row) != len(gplay_header):\n",
    "        print(\"Index :\", gplay.index(row))\n",
    "        print(row)"
   ]
  },
  {
   "cell_type": "markdown",
   "metadata": {},
   "source": [
    "We have deleted mismatch row and double checking it. Good...! Zero result."
   ]
  },
  {
   "cell_type": "markdown",
   "metadata": {},
   "source": [
    "### Duplicate Checking"
   ]
  },
  {
   "cell_type": "markdown",
   "metadata": {},
   "source": [
    "From the [discussion](https://www.kaggle.com/lava18/google-play-store-apps/discussion) section, the Google Play have duplicate entries."
   ]
  },
  {
   "cell_type": "code",
   "execution_count": 7,
   "metadata": {},
   "outputs": [
    {
     "name": "stdout",
     "output_type": "stream",
     "text": [
      "Number of duplicate apps: 1181\n",
      "\n",
      "\n",
      "Examples of duplicate apps:\n",
      " ['Quick PDF Scanner + OCR FREE', 'Box', 'Google My Business', 'ZOOM Cloud Meetings', 'join.me - Simple Meetings', 'Box', 'Zenefits', 'Google Ads', 'Google My Business', 'Slack', 'FreshBooks Classic', 'Insightly CRM', 'QuickBooks Accounting: Invoicing & Expenses', 'HipChat - Chat Built for Teams', 'Xero Accounting Software']\n"
     ]
    }
   ],
   "source": [
    "duplicate_apps = []\n",
    "unique_apps = []\n",
    "\n",
    "for app in gplay:\n",
    "    name = app[0]\n",
    "    if name in unique_apps:\n",
    "        duplicate_apps.append(name)\n",
    "    else:\n",
    "        unique_apps.append(name)\n",
    "        \n",
    "print('Number of duplicate apps:', len(duplicate_apps))\n",
    "print('\\n')\n",
    "print('Examples of duplicate apps:\\n', duplicate_apps[:15])"
   ]
  },
  {
   "cell_type": "markdown",
   "metadata": {},
   "source": [
    "We don't want to count certain apps more than once when we analyze data, so we need to remove the duplicate entries and keep only one entry per app. One thing we could do is remove the duplicate rows randomly, but we could probably find a better way.\n",
    "\n",
    "Rather than removing duplicates randomly, we'll only keep the row with the highest number of reviews and remove the other entries for any given app."
   ]
  },
  {
   "cell_type": "markdown",
   "metadata": {},
   "source": [
    "#### Removing Duplicate Entries"
   ]
  },
  {
   "cell_type": "code",
   "execution_count": 8,
   "metadata": {},
   "outputs": [],
   "source": [
    "reviews_max = {}\n",
    "\n",
    "for app in gplay:\n",
    "    name = app[0]\n",
    "    n_reviews = float(app[3])\n",
    "    \n",
    "    if name in reviews_max and reviews_max[name] < n_reviews:\n",
    "        reviews_max[name] = n_reviews\n",
    "    \n",
    "    else:\n",
    "        reviews_max[name] = n_reviews"
   ]
  },
  {
   "cell_type": "markdown",
   "metadata": {},
   "source": [
    "Inspect the dictionary to make sure everything went as expected. Measure the length of the dictionary — remember that the expected length is 9,659 entries."
   ]
  },
  {
   "cell_type": "code",
   "execution_count": 9,
   "metadata": {},
   "outputs": [
    {
     "name": "stdout",
     "output_type": "stream",
     "text": [
      "Expected length:  9659\n",
      "Actual length:  9659\n"
     ]
    }
   ],
   "source": [
    "print('Expected length: ', len(gplay) - 1181)\n",
    "print('Actual length: ', len(reviews_max))"
   ]
  },
  {
   "cell_type": "markdown",
   "metadata": {},
   "source": [
    "Use the dictionary created above to remove the duplicate rows"
   ]
  },
  {
   "cell_type": "code",
   "execution_count": 10,
   "metadata": {},
   "outputs": [],
   "source": [
    "gplay_nodup = []\n",
    "already_added = []\n",
    "\n",
    "for app in gplay:\n",
    "    name = app[0]\n",
    "    n_reviews = float(app[3])\n",
    "    \n",
    "    if (reviews_max[name] == n_reviews) and (name not in already_added):\n",
    "        gplay_nodup.append(app)\n",
    "        already_added.append(name)"
   ]
  },
  {
   "cell_type": "markdown",
   "metadata": {},
   "source": [
    "Explore the android_clean data set to ensure everything went as expected. The data set should have 9,659 rows."
   ]
  },
  {
   "cell_type": "code",
   "execution_count": 11,
   "metadata": {},
   "outputs": [
    {
     "name": "stdout",
     "output_type": "stream",
     "text": [
      "Expected length:  9659\n",
      "Google Play no duplicate length:  9659\n"
     ]
    }
   ],
   "source": [
    "print('Expected length: ', len(gplay) - 1181)\n",
    "print('Google Play no duplicate length: ', len(gplay_nodup))"
   ]
  },
  {
   "cell_type": "markdown",
   "metadata": {},
   "source": [
    "### Non-English Checking"
   ]
  },
  {
   "cell_type": "markdown",
   "metadata": {},
   "source": [
    "We're not interested in keeping these apps, so we'll remove them. One way to go about this is to remove each app with a name containing a symbol that is not commonly used in English text — English text usually includes letters from the English alphabet, numbers composed of digits from 0 to 9, punctuation marks (., !, ?, ;), and other symbols (+, *, /).\n",
    "\n",
    "Behind the scenes, each character we use in a string has a corresponding number associated with it. For instance, the corresponding number for character 'a' is 97, character 'A' is 65, and character '爱' is 29,233. We can get the corresponding number of each character using the ord() [built-in function](https://docs.python.org/3/library/functions.html#ord).\n",
    "\n",
    "The numbers corresponding to the characters we commonly use in an English text are all in the range 0 to 127, according to the [ASCII](https://en.wikipedia.org/wiki/ASCII) (American Standard Code for Information Interchange) system. Based on this number range, we can build a function that detects whether a character belongs to the set of common English characters or not. If the number is equal to or less than 127, then the character belongs to the set of common English characters."
   ]
  },
  {
   "cell_type": "code",
   "execution_count": 12,
   "metadata": {},
   "outputs": [],
   "source": [
    "# Make ASCII checker function\n",
    "#\n",
    "def en_check(string):\n",
    "    \n",
    "    for char in string:\n",
    "        if ord(char) > 127:\n",
    "            return False\n",
    "        \n",
    "    return True"
   ]
  },
  {
   "cell_type": "code",
   "execution_count": 13,
   "metadata": {},
   "outputs": [
    {
     "name": "stdout",
     "output_type": "stream",
     "text": [
      "True\n",
      "False\n",
      "False\n",
      "False\n"
     ]
    }
   ],
   "source": [
    "print(en_check('Instagram'))\n",
    "print(en_check('爱奇艺PPS -《欢乐颂2》电视剧热播'))\n",
    "print(en_check('Docs To Go™ Free Office Suite'))\n",
    "print(en_check('Instachat 😜'))"
   ]
  },
  {
   "cell_type": "markdown",
   "metadata": {},
   "source": [
    "We saw that the function couldn't correctly identify certain English app names like 'Docs To Go™ Free Office Suite' and 'Instachat 😜'. This is because emojis and characters like ™ fall outside the ASCII range and have corresponding numbers over 127."
   ]
  },
  {
   "cell_type": "code",
   "execution_count": 14,
   "metadata": {},
   "outputs": [
    {
     "name": "stdout",
     "output_type": "stream",
     "text": [
      "8482\n",
      "128540\n"
     ]
    }
   ],
   "source": [
    "print(ord('™'))\n",
    "print(ord('😜'))"
   ]
  },
  {
   "cell_type": "markdown",
   "metadata": {},
   "source": [
    "If we're going to use the function we've created, we'll lose useful data since many English apps will be incorrectly labeled as non-English. To minimize the impact of data loss, we'll only remove an app if its name has more than three characters with corresponding numbers falling outside the ASCII range."
   ]
  },
  {
   "cell_type": "code",
   "execution_count": 15,
   "metadata": {},
   "outputs": [],
   "source": [
    "# Make revision for ASCII checker function\n",
    "#\n",
    "def en_check(string):\n",
    "    threshold = 0     \n",
    "    \n",
    "    for char in string:\n",
    "        if ord(char) > 127:\n",
    "            threshold += 1\n",
    "    \n",
    "    if threshold > 3:\n",
    "        return False\n",
    "    else:\n",
    "        return True"
   ]
  },
  {
   "cell_type": "code",
   "execution_count": 16,
   "metadata": {},
   "outputs": [
    {
     "name": "stdout",
     "output_type": "stream",
     "text": [
      "True\n",
      "False\n",
      "True\n",
      "True\n"
     ]
    }
   ],
   "source": [
    "print(en_check('Instagram'))\n",
    "print(en_check('爱奇艺PPS -《欢乐颂2》电视剧热播'))\n",
    "print(en_check('Docs To Go™ Free Office Suite'))\n",
    "print(en_check('Instachat 😜'))"
   ]
  },
  {
   "cell_type": "markdown",
   "metadata": {},
   "source": [
    "#### Remove Non-English App"
   ]
  },
  {
   "cell_type": "markdown",
   "metadata": {},
   "source": [
    "Using the new function to filter out non-English apps from both data sets."
   ]
  },
  {
   "cell_type": "code",
   "execution_count": 17,
   "metadata": {},
   "outputs": [],
   "source": [
    "appstore_en = []\n",
    "gplay_en = []\n",
    "\n",
    "for app in appstore:\n",
    "    name = app[1]\n",
    "    if en_check(name):\n",
    "        appstore_en.append(app)\n",
    "\n",
    "for app in gplay_nodup:\n",
    "    name = app[0]\n",
    "    if en_check(name):\n",
    "        gplay_en.append(app)"
   ]
  },
  {
   "cell_type": "code",
   "execution_count": 18,
   "metadata": {},
   "outputs": [
    {
     "name": "stdout",
     "output_type": "stream",
     "text": [
      "English Apple Store Apps : 6183\n",
      "English Goggle Play Apps : 9614\n"
     ]
    }
   ],
   "source": [
    "print('English Apple Store Apps :', len(appstore_en))\n",
    "print('English Goggle Play Apps :', len(gplay_en))"
   ]
  },
  {
   "cell_type": "markdown",
   "metadata": {},
   "source": [
    "### Isolating Free Apps"
   ]
  },
  {
   "cell_type": "markdown",
   "metadata": {},
   "source": [
    "As we mentioned in the introduction, we only build apps that are free to download and install, and our main source of revenue consists of in-app ads. Our data sets contain both free and non-free apps; we'll need to isolate only the free apps for our analysis.\n",
    "\n",
    "Isolating the free apps will be our last step in the data cleaning process."
   ]
  },
  {
   "cell_type": "code",
   "execution_count": 19,
   "metadata": {},
   "outputs": [],
   "source": [
    "appstore_fin = []\n",
    "gplay_fin = []\n",
    "\n",
    "for app in appstore_en:\n",
    "    price = app[4]\n",
    "    if price == '0' or price == '0.0':\n",
    "        appstore_fin.append(app)\n",
    "\n",
    "for app in gplay_en:\n",
    "    price = app[7]\n",
    "    if price == '0' or price == '0.0':\n",
    "        gplay_fin.append(app)"
   ]
  },
  {
   "cell_type": "code",
   "execution_count": 20,
   "metadata": {},
   "outputs": [
    {
     "name": "stdout",
     "output_type": "stream",
     "text": [
      "Free Apple Store Apps : 3222\n",
      "Free Goggle Play Apps : 8864\n"
     ]
    }
   ],
   "source": [
    "print('Free Apple Store Apps :', len(appstore_fin))\n",
    "print('Free Goggle Play Apps :', len(gplay_fin))"
   ]
  },
  {
   "cell_type": "markdown",
   "metadata": {},
   "source": [
    "---"
   ]
  },
  {
   "cell_type": "markdown",
   "metadata": {},
   "source": [
    "# Analyzing"
   ]
  },
  {
   "cell_type": "markdown",
   "metadata": {},
   "source": [
    "So far, we spent a good amount of time on cleaning data, and:\n",
    "\n",
    "* Removed inaccurate data\n",
    "* Removed duplicate app entries\n",
    "* Removed non-English apps\n",
    "* Isolated the free apps"
   ]
  },
  {
   "cell_type": "markdown",
   "metadata": {},
   "source": [
    "As we mentioned in the introduction, our aim is to determine the kinds of apps that are likely to attract more users because our revenue is highly influenced by the number of people using our apps.\n",
    "\n",
    "To minimize risks and overhead, our validation strategy for an app idea is comprised of three steps:\n",
    "\n",
    "Build a minimal Android version of the app, and add it to Google Play.\n",
    "If the app has a good response from users, we develop it further.\n",
    "If the app is profitable after six months, we build an iOS version of the app and add it to the App Store.\n",
    "Because our end goal is to add the app on both Google Play and the App Store, we need to find app profiles that are successful on both markets. For instance, a profile that works well for both markets might be a productivity app that makes use of gamification."
   ]
  },
  {
   "cell_type": "markdown",
   "metadata": {},
   "source": [
    "## Percentage Table"
   ]
  },
  {
   "cell_type": "markdown",
   "metadata": {},
   "source": [
    "We'll build two functions we can use to analyze the frequency tables:\n",
    "\n",
    "* One function to generate frequency tables that show percentages\n",
    "* Another function we can use to display the percentages in a descending order"
   ]
  },
  {
   "cell_type": "code",
   "execution_count": 21,
   "metadata": {},
   "outputs": [],
   "source": [
    "def freq_table(dataset, index):\n",
    "    ''' \n",
    "    dataset, expected to be a list of lists\n",
    "    index, expected to be an integer\n",
    "    '''\n",
    "    genres = {}\n",
    "    total = 0\n",
    "    percent_table = {}\n",
    "    \n",
    "    for row in dataset :\n",
    "        total += 1\n",
    "        genre = row[index]\n",
    "        if genre in genres:\n",
    "            genres[genre] += 1\n",
    "        else :\n",
    "            genres[genre] = 1 \n",
    "    \n",
    "    for key in genres:\n",
    "        percentage = (genres[key] / total) * 100\n",
    "        percent_table[key] = percentage \n",
    "    \n",
    "    return percent_table"
   ]
  },
  {
   "cell_type": "code",
   "execution_count": 22,
   "metadata": {},
   "outputs": [],
   "source": [
    "def display_table(dataset, index):\n",
    "    '''\n",
    "    Takes in two parameters: dataset and index. dataset is expected to be a list of lists, and index is expected to be an integer.\n",
    "    Generates a frequency table using the freq_table() function (which you're going to write as an exercise).\n",
    "    Transforms the frequency table into a list of tuples, then sorts the list in a descending order.\n",
    "    Prints the entries of the frequency table in descending order.\n",
    "    '''\n",
    "    \n",
    "    table = freq_table(dataset, index)\n",
    "    table_display = []\n",
    "    \n",
    "    for key in table:\n",
    "        key_val_as_tuple = (table[key], key)\n",
    "        table_display.append(key_val_as_tuple)\n",
    "\n",
    "    table_sorted = sorted(table_display, reverse = True)\n",
    "    \n",
    "    for entry in table_sorted:\n",
    "        print(entry[1], ':', entry[0])"
   ]
  },
  {
   "cell_type": "markdown",
   "metadata": {},
   "source": [
    "### Apple Store Percentage Table"
   ]
  },
  {
   "cell_type": "markdown",
   "metadata": {},
   "source": [
    "We will generate frequency tables for the columns prime_genre from Apple Store "
   ]
  },
  {
   "cell_type": "code",
   "execution_count": 23,
   "metadata": {},
   "outputs": [
    {
     "name": "stdout",
     "output_type": "stream",
     "text": [
      "Games : 58.16263190564867\n",
      "Entertainment : 7.883302296710118\n",
      "Photo & Video : 4.9658597144630665\n",
      "Education : 3.662321539416512\n",
      "Social Networking : 3.2898820608317814\n",
      "Shopping : 2.60707635009311\n",
      "Utilities : 2.5139664804469275\n",
      "Sports : 2.1415270018621975\n",
      "Music : 2.0484171322160147\n",
      "Health & Fitness : 2.0173805090006205\n",
      "Productivity : 1.7380509000620732\n",
      "Lifestyle : 1.5828677839851024\n",
      "News : 1.3345747982619491\n",
      "Travel : 1.2414649286157666\n",
      "Finance : 1.1173184357541899\n",
      "Weather : 0.8690254500310366\n",
      "Food & Drink : 0.8069522036002483\n",
      "Reference : 0.5586592178770949\n",
      "Business : 0.5276225946617008\n",
      "Book : 0.4345127250155183\n",
      "Navigation : 0.186219739292365\n",
      "Medical : 0.186219739292365\n",
      "Catalogs : 0.12414649286157665\n"
     ]
    }
   ],
   "source": [
    "display_table(appstore_fin, 11)"
   ]
  },
  {
   "cell_type": "markdown",
   "metadata": {},
   "source": [
    "The most genre for Apple Store free apps is games with 58.16%, following it entertainment with 7.88%. Both have a number far adrift.  \n",
    "\n",
    "The general impression is most of the free apps in Apple Store is designed for entertainment instead of practical purposes (such as education, shopping, utilities, productivity, or lifestyle). But the large number of apps for particular genre doesn't imply that apps of that genre generally have a large number of users"
   ]
  },
  {
   "cell_type": "markdown",
   "metadata": {},
   "source": [
    "### Google Play Percentage Table"
   ]
  },
  {
   "cell_type": "markdown",
   "metadata": {},
   "source": [
    "#### Categories "
   ]
  },
  {
   "cell_type": "markdown",
   "metadata": {},
   "source": [
    "We will generate frequency tables for the columns category from Google Play"
   ]
  },
  {
   "cell_type": "code",
   "execution_count": 24,
   "metadata": {},
   "outputs": [
    {
     "name": "stdout",
     "output_type": "stream",
     "text": [
      "FAMILY : 19.223826714801444\n",
      "GAME : 9.510379061371841\n",
      "TOOLS : 8.461191335740072\n",
      "BUSINESS : 4.580324909747293\n",
      "LIFESTYLE : 3.9034296028880866\n",
      "PRODUCTIVITY : 3.892148014440433\n",
      "FINANCE : 3.7003610108303246\n",
      "MEDICAL : 3.5424187725631766\n",
      "SPORTS : 3.4183212996389893\n",
      "PERSONALIZATION : 3.3167870036101084\n",
      "COMMUNICATION : 3.2490974729241873\n",
      "HEALTH_AND_FITNESS : 3.068592057761733\n",
      "PHOTOGRAPHY : 2.944494584837545\n",
      "NEWS_AND_MAGAZINES : 2.7978339350180503\n",
      "SOCIAL : 2.6624548736462095\n",
      "TRAVEL_AND_LOCAL : 2.33528880866426\n",
      "SHOPPING : 2.2450361010830324\n",
      "BOOKS_AND_REFERENCE : 2.1435018050541514\n",
      "DATING : 1.861462093862816\n",
      "VIDEO_PLAYERS : 1.782490974729242\n",
      "MAPS_AND_NAVIGATION : 1.3989169675090252\n",
      "FOOD_AND_DRINK : 1.2409747292418771\n",
      "EDUCATION : 1.128158844765343\n",
      "LIBRARIES_AND_DEMO : 0.9363718411552346\n",
      "AUTO_AND_VEHICLES : 0.9250902527075812\n",
      "ENTERTAINMENT : 0.8799638989169676\n",
      "HOUSE_AND_HOME : 0.8235559566787004\n",
      "WEATHER : 0.8009927797833934\n",
      "EVENTS : 0.7107400722021661\n",
      "PARENTING : 0.6543321299638989\n",
      "ART_AND_DESIGN : 0.6430505415162455\n",
      "COMICS : 0.6204873646209386\n",
      "BEAUTY : 0.5979241877256317\n"
     ]
    }
   ],
   "source": [
    "display_table(gplay_fin, 1) # Categories"
   ]
  },
  {
   "cell_type": "markdown",
   "metadata": {},
   "source": [
    "#### Genres"
   ]
  },
  {
   "cell_type": "markdown",
   "metadata": {},
   "source": [
    "We will generate frequency tables for the columns genres from Google Play"
   ]
  },
  {
   "cell_type": "code",
   "execution_count": 25,
   "metadata": {},
   "outputs": [
    {
     "name": "stdout",
     "output_type": "stream",
     "text": [
      "Tools : 8.449909747292418\n",
      "Entertainment : 6.069494584837545\n",
      "Education : 5.347472924187725\n",
      "Business : 4.580324909747293\n",
      "Productivity : 3.892148014440433\n",
      "Lifestyle : 3.892148014440433\n",
      "Finance : 3.7003610108303246\n",
      "Medical : 3.5424187725631766\n",
      "Sports : 3.463447653429603\n",
      "Personalization : 3.3167870036101084\n",
      "Communication : 3.2490974729241873\n",
      "Action : 3.1024368231046933\n",
      "Health & Fitness : 3.068592057761733\n",
      "Photography : 2.944494584837545\n",
      "News & Magazines : 2.7978339350180503\n",
      "Social : 2.6624548736462095\n",
      "Travel & Local : 2.3240072202166067\n",
      "Shopping : 2.2450361010830324\n",
      "Books & Reference : 2.1435018050541514\n",
      "Simulation : 2.0419675090252705\n",
      "Dating : 1.861462093862816\n",
      "Arcade : 1.861462093862816\n",
      "Video Players & Editors : 1.782490974729242\n",
      "Casual : 1.7486462093862816\n",
      "Maps & Navigation : 1.3989169675090252\n",
      "Food & Drink : 1.2409747292418771\n",
      "Puzzle : 1.128158844765343\n",
      "Racing : 0.9927797833935018\n",
      "Role Playing : 0.9363718411552346\n",
      "Libraries & Demo : 0.9363718411552346\n",
      "Auto & Vehicles : 0.9250902527075812\n",
      "Strategy : 0.9138086642599278\n",
      "House & Home : 0.8235559566787004\n",
      "Weather : 0.8009927797833934\n",
      "Events : 0.7107400722021661\n",
      "Adventure : 0.6768953068592057\n",
      "Comics : 0.6092057761732852\n",
      "Beauty : 0.5979241877256317\n",
      "Art & Design : 0.5979241877256317\n",
      "Parenting : 0.4963898916967509\n",
      "Card : 0.4399819494584838\n",
      "Casino : 0.42870036101083037\n",
      "Trivia : 0.41741877256317694\n",
      "Educational;Education : 0.39485559566787\n",
      "Board : 0.3835740072202166\n",
      "Educational : 0.3722924187725632\n",
      "Education;Education : 0.33844765342960287\n",
      "Word : 0.2594765342960289\n",
      "Casual;Pretend Play : 0.236913357400722\n",
      "Music : 0.2030685920577617\n",
      "Racing;Action & Adventure : 0.16922382671480143\n",
      "Puzzle;Brain Games : 0.16922382671480143\n",
      "Entertainment;Music & Video : 0.16922382671480143\n",
      "Casual;Brain Games : 0.13537906137184114\n",
      "Casual;Action & Adventure : 0.13537906137184114\n",
      "Arcade;Action & Adventure : 0.12409747292418773\n",
      "Action;Action & Adventure : 0.10153429602888085\n",
      "Educational;Pretend Play : 0.09025270758122744\n",
      "Simulation;Action & Adventure : 0.078971119133574\n",
      "Parenting;Education : 0.078971119133574\n",
      "Entertainment;Brain Games : 0.078971119133574\n",
      "Board;Brain Games : 0.078971119133574\n",
      "Parenting;Music & Video : 0.06768953068592057\n",
      "Educational;Brain Games : 0.06768953068592057\n",
      "Casual;Creativity : 0.06768953068592057\n",
      "Art & Design;Creativity : 0.06768953068592057\n",
      "Education;Pretend Play : 0.056407942238267145\n",
      "Role Playing;Pretend Play : 0.04512635379061372\n",
      "Education;Creativity : 0.04512635379061372\n",
      "Role Playing;Action & Adventure : 0.033844765342960284\n",
      "Puzzle;Action & Adventure : 0.033844765342960284\n",
      "Entertainment;Creativity : 0.033844765342960284\n",
      "Entertainment;Action & Adventure : 0.033844765342960284\n",
      "Educational;Creativity : 0.033844765342960284\n",
      "Educational;Action & Adventure : 0.033844765342960284\n",
      "Education;Music & Video : 0.033844765342960284\n",
      "Education;Brain Games : 0.033844765342960284\n",
      "Education;Action & Adventure : 0.033844765342960284\n",
      "Adventure;Action & Adventure : 0.033844765342960284\n",
      "Video Players & Editors;Music & Video : 0.02256317689530686\n",
      "Sports;Action & Adventure : 0.02256317689530686\n",
      "Simulation;Pretend Play : 0.02256317689530686\n",
      "Puzzle;Creativity : 0.02256317689530686\n",
      "Music;Music & Video : 0.02256317689530686\n",
      "Entertainment;Pretend Play : 0.02256317689530686\n",
      "Casual;Education : 0.02256317689530686\n",
      "Board;Action & Adventure : 0.02256317689530686\n",
      "Trivia;Education : 0.01128158844765343\n",
      "Travel & Local;Action & Adventure : 0.01128158844765343\n",
      "Tools;Education : 0.01128158844765343\n",
      "Strategy;Education : 0.01128158844765343\n",
      "Strategy;Creativity : 0.01128158844765343\n",
      "Strategy;Action & Adventure : 0.01128158844765343\n",
      "Simulation;Education : 0.01128158844765343\n",
      "Role Playing;Brain Games : 0.01128158844765343\n",
      "Racing;Pretend Play : 0.01128158844765343\n",
      "Puzzle;Education : 0.01128158844765343\n",
      "Parenting;Brain Games : 0.01128158844765343\n",
      "Music & Audio;Music & Video : 0.01128158844765343\n",
      "Lifestyle;Pretend Play : 0.01128158844765343\n",
      "Lifestyle;Education : 0.01128158844765343\n",
      "Health & Fitness;Education : 0.01128158844765343\n",
      "Health & Fitness;Action & Adventure : 0.01128158844765343\n",
      "Entertainment;Education : 0.01128158844765343\n",
      "Communication;Creativity : 0.01128158844765343\n",
      "Comics;Creativity : 0.01128158844765343\n",
      "Casual;Music & Video : 0.01128158844765343\n",
      "Card;Brain Games : 0.01128158844765343\n",
      "Card;Action & Adventure : 0.01128158844765343\n",
      "Books & Reference;Education : 0.01128158844765343\n",
      "Art & Design;Pretend Play : 0.01128158844765343\n",
      "Art & Design;Action & Adventure : 0.01128158844765343\n",
      "Arcade;Pretend Play : 0.01128158844765343\n",
      "Adventure;Education : 0.01128158844765343\n"
     ]
    }
   ],
   "source": [
    "display_table(gplay_fin, 9) # Genres"
   ]
  },
  {
   "cell_type": "markdown",
   "metadata": {},
   "source": [
    "The most genre (from 'categories') is family with 19.22%.  \n",
    "And overal genre in Google Play percentage table is more evenly distributed compared to Apple Store percentage table.\n",
    "\n",
    "The difference between the Genres and the Category columns is not crystal clear, but one thing we can notice is that the Genres column is much more granular (it has more categories). We're only looking for the bigger picture at the moment, so we'll only work with the Category column moving forward.\n",
    "\n",
    "Up to this point, we found that the App Store is dominated by apps designed for fun, while Google Play shows a more balanced landscape of both practical and for-fun apps. Now we'd like to get an idea about the kind of apps that have most users."
   ]
  },
  {
   "cell_type": "markdown",
   "metadata": {},
   "source": [
    "## Most Popular Apps by Genre"
   ]
  },
  {
   "cell_type": "markdown",
   "metadata": {},
   "source": [
    "The frequency tables we analyzed on the previous screen showed us that the App Store is dominated by apps designed for fun, while Google Play shows a more balanced landscape of both practical and fun apps. Now, we'd like to get an idea about the kind of apps with the most users.  "
   ]
  },
  {
   "cell_type": "markdown",
   "metadata": {},
   "source": [
    "### Most Popular Apps in Apple Store"
   ]
  },
  {
   "cell_type": "markdown",
   "metadata": {},
   "source": [
    "One way to find out what genres are the most popular (have the most users) is to calculate the average number of installs for each app genre. For the Google Play data set, we can find this information in the Installs column, but this information is missing for the App Store data set. As a workaround, we'll take the total number of user ratings as a proxy, which we can find in the rating_count_tot app."
   ]
  },
  {
   "cell_type": "code",
   "execution_count": 26,
   "metadata": {},
   "outputs": [
    {
     "name": "stdout",
     "output_type": "stream",
     "text": [
      "Social Networking : 71548.34905660378\n",
      "Photo & Video : 28441.54375\n",
      "Games : 22788.6696905016\n",
      "Music : 57326.530303030304\n",
      "Reference : 74942.11111111111\n",
      "Health & Fitness : 23298.015384615384\n",
      "Weather : 52279.892857142855\n",
      "Utilities : 18684.456790123455\n",
      "Travel : 28243.8\n",
      "Shopping : 26919.690476190477\n",
      "News : 21248.023255813954\n",
      "Navigation : 86090.33333333333\n",
      "Lifestyle : 16485.764705882353\n",
      "Entertainment : 14029.830708661417\n",
      "Food & Drink : 33333.92307692308\n",
      "Sports : 23008.898550724636\n",
      "Book : 39758.5\n",
      "Finance : 31467.944444444445\n",
      "Education : 7003.983050847458\n",
      "Productivity : 21028.410714285714\n",
      "Business : 7491.117647058823\n",
      "Catalogs : 4004.0\n",
      "Medical : 612.0\n"
     ]
    }
   ],
   "source": [
    "genres_appstore = freq_table(appstore_fin, -5)\n",
    "\n",
    "for genre in genres_appstore:\n",
    "    total = 0\n",
    "    len_genre = 0\n",
    "    for app in appstore_fin:\n",
    "        genre_app = app[-5]\n",
    "        if genre_app == genre:            \n",
    "            n_ratings = float(app[5])\n",
    "            total += n_ratings\n",
    "            len_genre += 1\n",
    "    avg_n_ratings = total / len_genre\n",
    "    print(genre, ':', avg_n_ratings)"
   ]
  },
  {
   "cell_type": "markdown",
   "metadata": {},
   "source": [
    "#### Analysis"
   ]
  },
  {
   "cell_type": "code",
   "execution_count": 27,
   "metadata": {},
   "outputs": [
    {
     "name": "stdout",
     "output_type": "stream",
     "text": [
      "Waze - GPS Navigation, Maps & Real-time Traffic  :  345046\n",
      "Google Maps - Navigation & Transit  :  154911\n",
      "Geocaching®  :  12811\n",
      "CoPilot GPS – Car Navigation & Offline Maps  :  3582\n",
      "ImmobilienScout24: Real Estate Search in Germany  :  187\n",
      "Railway Route Search  :  5\n"
     ]
    }
   ],
   "source": [
    "# 1st place, avg_rating : 86090.33333333333\n",
    "#\n",
    "for app in appstore_fin:\n",
    "    if app[-5] == 'Navigation':\n",
    "        print(app[1], ' : ', app[5])"
   ]
  },
  {
   "cell_type": "markdown",
   "metadata": {},
   "source": [
    "The Navigation category was dominated by Waze and Google, which has half a million users together. Not a ideal category for new apps."
   ]
  },
  {
   "cell_type": "code",
   "execution_count": 28,
   "metadata": {},
   "outputs": [
    {
     "name": "stdout",
     "output_type": "stream",
     "text": [
      "Bible  :  985920\n",
      "Dictionary.com Dictionary & Thesaurus  :  200047\n",
      "Dictionary.com Dictionary & Thesaurus for iPad  :  54175\n",
      "Google Translate  :  26786\n",
      "Muslim Pro: Ramadan 2017 Prayer Times, Azan, Quran  :  18418\n",
      "New Furniture Mods - Pocket Wiki & Game Tools for Minecraft PC Edition  :  17588\n",
      "Merriam-Webster Dictionary  :  16849\n",
      "Night Sky  :  12122\n",
      "City Maps for Minecraft PE - The Best Maps for Minecraft Pocket Edition (MCPE)  :  8535\n",
      "LUCKY BLOCK MOD ™ for Minecraft PC Edition - The Best Pocket Wiki & Mods Installer Tools  :  4693\n",
      "GUNS MODS for Minecraft PC Edition - Mods Tools  :  1497\n",
      "Guides for Pokémon GO - Pokemon GO News and Cheats  :  826\n",
      "WWDC  :  762\n",
      "Horror Maps for Minecraft PE - Download The Scariest Maps for Minecraft Pocket Edition (MCPE) Free  :  718\n",
      "VPN Express  :  14\n",
      "Real Bike Traffic Rider Virtual Reality Glasses  :  8\n",
      "教えて!goo  :  0\n",
      "Jishokun-Japanese English Dictionary & Translator  :  0\n"
     ]
    }
   ],
   "source": [
    "# 2nd place, avg_rating : 74942.11111111111\n",
    "#\n",
    "for app in appstore_fin:\n",
    "    if app[-5] == 'Reference':\n",
    "        print(app[1], ' : ', app[5])"
   ]
  },
  {
   "cell_type": "code",
   "execution_count": 29,
   "metadata": {},
   "outputs": [
    {
     "name": "stdout",
     "output_type": "stream",
     "text": [
      "Indeed Job Search  :  38681\n",
      "Flashlight ◎  :  24744\n",
      "Adobe Acrobat Reader: View, Create, & Convert PDFs  :  20069\n",
      "Scanner App - PDF Document Scan  :  11696\n",
      "SayHi Translate  :  8623\n",
      "ADP Mobile Solutions  :  8324\n",
      "Sideline - 2nd Phone Number  :  7907\n",
      "Uber Driver  :  3289\n",
      "AirWatch Agent  :  1150\n",
      "VPN Go - Safe Fast & Stable VPN Proxy  :  881\n",
      "Cisco AnyConnect  :  825\n",
      "GreenVPN - Free & fast VPN with unlimited traffic  :  464\n",
      "iPlum Business Phone Number for Calling & Texting  :  392\n",
      "OPEN Forum  :  200\n",
      "Pulse Secure  :  53\n",
      "DingTalk  :  40\n",
      "Mon Espace - Pôle emploi  :  11\n"
     ]
    }
   ],
   "source": [
    "# 3rd place, avg_rating : 74942.11111111111\n",
    "#\n",
    "for app in appstore_fin:\n",
    "    if app[-5] == 'Business':\n",
    "        print(app[1], ' : ', app[5])"
   ]
  },
  {
   "cell_type": "code",
   "execution_count": 30,
   "metadata": {},
   "outputs": [
    {
     "name": "stdout",
     "output_type": "stream",
     "text": [
      "Facebook  :  2974676\n",
      "Pinterest  :  1061624\n",
      "Skype for iPhone  :  373519\n",
      "Messenger  :  351466\n",
      "Tumblr  :  334293\n",
      "WhatsApp Messenger  :  287589\n",
      "Kik  :  260965\n",
      "ooVoo – Free Video Call, Text and Voice  :  177501\n",
      "TextNow - Unlimited Text + Calls  :  164963\n",
      "Viber Messenger – Text & Call  :  164249\n",
      "Followers - Social Analytics For Instagram  :  112778\n",
      "MeetMe - Chat and Meet New People  :  97072\n",
      "We Heart It - Fashion, wallpapers, quotes, tattoos  :  90414\n",
      "InsTrack for Instagram - Analytics Plus More  :  85535\n",
      "Tango - Free Video Call, Voice and Chat  :  75412\n",
      "LinkedIn  :  71856\n",
      "Match™ - #1 Dating App.  :  60659\n",
      "Skype for iPad  :  60163\n",
      "POF - Best Dating App for Conversations  :  52642\n",
      "Timehop  :  49510\n",
      "Find My Family, Friends & iPhone - Life360 Locator  :  43877\n",
      "Whisper - Share, Express, Meet  :  39819\n",
      "Hangouts  :  36404\n",
      "LINE PLAY - Your Avatar World  :  34677\n",
      "WeChat  :  34584\n",
      "Badoo - Meet New People, Chat, Socialize.  :  34428\n",
      "Followers + for Instagram - Follower Analytics  :  28633\n",
      "GroupMe  :  28260\n",
      "Marco Polo Video Walkie Talkie  :  27662\n",
      "Miitomo  :  23965\n",
      "SimSimi  :  23530\n",
      "Grindr - Gay and same sex guys chat, meet and date  :  23201\n",
      "Wishbone - Compare Anything  :  20649\n",
      "imo video calls and chat  :  18841\n",
      "After School - Funny Anonymous School News  :  18482\n",
      "Quick Reposter - Repost, Regram and Reshare Photos  :  17694\n",
      "Weibo HD  :  16772\n",
      "Repost for Instagram  :  15185\n",
      "Live.me – Live Video Chat & Make Friends Nearby  :  14724\n",
      "Nextdoor  :  14402\n",
      "Followers Analytics for Instagram - InstaReport  :  13914\n",
      "YouNow: Live Stream Video Chat  :  12079\n",
      "FollowMeter for Instagram - Followers Tracking  :  11976\n",
      "LINE  :  11437\n",
      "eHarmony™ Dating App - Meet Singles  :  11124\n",
      "Discord - Chat for Gamers  :  9152\n",
      "QQ  :  9109\n",
      "Telegram Messenger  :  7573\n",
      "Weibo  :  7265\n",
      "Periscope - Live Video Streaming Around the World  :  6062\n",
      "Chat for Whatsapp - iPad Version  :  5060\n",
      "QQ HD  :  5058\n",
      "Followers Analysis Tool For Instagram App Free  :  4253\n",
      "live.ly - live video streaming  :  4145\n",
      "Houseparty - Group Video Chat  :  3991\n",
      "SOMA Messenger  :  3232\n",
      "Monkey  :  3060\n",
      "Down To Lunch  :  2535\n",
      "Flinch - Video Chat Staring Contest  :  2134\n",
      "Highrise - Your Avatar Community  :  2011\n",
      "LOVOO - Dating Chat  :  1985\n",
      "PlayStation®Messages  :  1918\n",
      "BOO! - Video chat camera with filters & stickers  :  1805\n",
      "Qzone  :  1649\n",
      "Chatous - Chat with new people  :  1609\n",
      "Kiwi - Q&A  :  1538\n",
      "GhostCodes - a discovery app for Snapchat  :  1313\n",
      "Jodel  :  1193\n",
      "FireChat  :  1037\n",
      "Google Duo - simple video calling  :  1033\n",
      "Fiesta by Tango - Chat & Meet New People  :  885\n",
      "Google Allo — smart messaging  :  862\n",
      "Peach — share vividly  :  727\n",
      "Hey! VINA - Where Women Meet New Friends  :  719\n",
      "Battlefield™ Companion  :  689\n",
      "All Devices for WhatsApp - Messenger for iPad  :  682\n",
      "Chat for Pokemon Go - GoChat  :  500\n",
      "IAmNaughty – Dating App to Meet New People Online  :  463\n",
      "Qzone HD  :  458\n",
      "Zenly - Locate your friends in realtime  :  427\n",
      "League of Legends Friends  :  420\n",
      "豆瓣  :  407\n",
      "Candid - Speak Your Mind Freely  :  398\n",
      "知乎  :  397\n",
      "Selfeo  :  366\n",
      "Fake-A-Location Free ™  :  354\n",
      "Popcorn Buzz - Free Group Calls  :  281\n",
      "Fam — Group video calling for iMessage  :  279\n",
      "QQ International  :  274\n",
      "Ameba  :  269\n",
      "SoundCloud Pulse: for creators  :  240\n",
      "Tantan  :  235\n",
      "Cougar Dating & Life Style App for Mature Women  :  213\n",
      "Rawr Messenger - Dab your chat  :  180\n",
      "WhenToPost: Best Time to Post Photos for Instagram  :  158\n",
      "Inke—Broadcast an amazing life  :  147\n",
      "Mustknow - anonymous video Q&A  :  53\n",
      "CTFxCmoji  :  39\n",
      "Lobi  :  36\n",
      "Chain: Collaborate On MyVideo Story/Group Video  :  35\n",
      "botman - Real time video chat  :  7\n",
      "BestieBox  :  0\n",
      "MATCH ON LINE chat  :  0\n",
      "niconico ch  :  0\n",
      "LINE BLOG  :  0\n",
      "bit-tube - Live Stream Video Chat  :  0\n"
     ]
    }
   ],
   "source": [
    "# 4th place, avg_rating : 71548.34905660378\n",
    "#\n",
    "for app in appstore_fin:\n",
    "    if app[-5] == 'Social Networking':\n",
    "        print(app[1], ' : ', app[5])"
   ]
  },
  {
   "cell_type": "markdown",
   "metadata": {},
   "source": [
    "Same as Navigation, Social Networking category is dominated by few big company, such as Facebook, Pinterest, Skype, and Messenger. Not an ideal option for new apps."
   ]
  },
  {
   "cell_type": "code",
   "execution_count": 31,
   "metadata": {},
   "outputs": [
    {
     "name": "stdout",
     "output_type": "stream",
     "text": [
      "Duolingo - Learn Spanish, French and more  :  162701\n",
      "Guess My Age  Math Magic  :  123190\n",
      "Lumosity - Brain Training  :  96534\n",
      "Elevate - Brain Training and Games  :  58092\n",
      "Fit Brains Trainer  :  46363\n",
      "ClassDojo  :  35440\n",
      "Memrise: learn languages  :  20383\n",
      "Peak - Brain Training  :  20322\n",
      "Canvas by Instructure  :  19981\n",
      "ABCmouse.com - Early Learning Academy  :  18749\n",
      "Quizlet: Study Flashcards, Languages & Vocabulary  :  16683\n",
      "Photomath - Camera Calculator  :  16523\n",
      "iTunes U  :  15801\n",
      "Blackboard Mobile Learn™  :  13567\n",
      "Star Chart  :  13482\n",
      "Remind: Fast, Efficient School Messaging  :  9796\n",
      "PBS KIDS Video  :  8651\n",
      "Toca Kitchen Monsters  :  8062\n",
      "Toca Hair Salon - Christmas Gift  :  8049\n",
      "Edmodo  :  7197\n",
      "Prodigy Math Game  :  6683\n",
      "Epic! - Unlimited Books for Kids  :  6676\n",
      "ChineseSkill -Learn Mandarin Chinese Language Free  :  6077\n",
      "Google Classroom  :  5942\n",
      "TED  :  5782\n",
      "Khan Academy: you can learn anything  :  5459\n",
      "Got It - Homework Help Math, Chem, Physics Solver  :  4903\n",
      "PowerSchool Mobile  :  4547\n",
      "SkyView® Free - Explore the Universe  :  4188\n",
      "Hopscotch  :  4057\n",
      "IXL - Math and English  :  3546\n",
      "Simply Piano by JoyTunes - Learn & play piano  :  2925\n",
      "Kids A-Z  :  2887\n",
      "Infinite Campus Mobile Portal  :  2286\n",
      "PlayKids - Educational Cartoons and Games for Kids  :  2196\n",
      "Memorado Brain Training for Memory & Mindfulness  :  2067\n",
      "Bookshelf  :  2064\n",
      "Mathway - Math Problem Solver  :  1854\n",
      "Schoology  :  1777\n",
      "HelloTalk Language Exchange Learning App  :  1619\n",
      "SpellingCity  :  1566\n",
      "Nick Jr.  :  1541\n",
      "Babbel – Learn Languages Spanish, French & more  :  1533\n",
      "Yup - Homework Help with Math & Science Tutors  :  1424\n",
      "Mondly: Learn 33 Languages: Spanish English French  :  1395\n",
      "WWF Together  :  1385\n",
      "Tinycards - Learn with Fun, Free Flashcards  :  1131\n",
      "Nearpod  :  1057\n",
      "Starfall FREE  :  1019\n",
      "Reflex Student  :  1010\n",
      "GoldieBlox and the Movie Machine  :  1000\n",
      "Pearson eText  :  981\n",
      "codeSpark Academy with The Foos - coding for kids  :  977\n",
      "Dr. Panda Restaurant Asia  :  853\n",
      "NOGGIN - Preschool Shows & Educational Kids Videos  :  782\n",
      "Tynker - Learn to Code. Programming Made Easy.  :  771\n",
      "BrainHQ - Brain Training  :  684\n",
      "Top Hat Lecture  :  668\n",
      "Pearson eText for Schools  :  609\n",
      "Curious World: Games, Videos, Books for Children  :  604\n",
      "McGraw-Hill K-12 ConnectED Mobile  :  594\n",
      "Socrative Student  :  581\n",
      "Swift Playgrounds  :  578\n",
      "MarcoPolo Ocean  :  529\n",
      "TestNav  :  491\n",
      "Starfall Learn to Read  :  474\n",
      "Speakaboos Reading App: Stories & Songs for Kids  :  440\n",
      "Bloxels: Build, Play & Share Your Own Video Games  :  382\n",
      "GoNoodle Kids  :  372\n",
      "Global Shark Tracker  :  336\n",
      "The Robot Factory by Tinybop  :  335\n",
      "Daniel Tiger’s Day & Night  :  314\n",
      "Kahoot! Play Fun Learning Games  :  300\n",
      "Spanish SOLO: Learn Spanish With Lessons On The Go  :  275\n",
      "Math 42  :  248\n",
      "Star Walk 2 Ads+ Night Sky Map - Stars and Planets  :  161\n",
      "Toca Dance Free  :  149\n",
      "Endless Learning Academy  :  143\n",
      "270toWin  :  141\n",
      "Win the White House  :  123\n",
      "Sago Mini Babies Dress Up  :  115\n",
      "Nancy Drew Codes and Clues Mystery Coding Game  :  110\n",
      "1600  :  110\n",
      "BEAKER by THIX  :  94\n",
      "Highlights™ Shapes - Preschool Learning Puzzles  :  90\n",
      "Little Panda's Candy Shop - Lollipop Factory  :  84\n",
      "Mathpix - Solve and graph math using pictures  :  83\n",
      "Blue Apprentice Elementary Science Game by Galxyz  :  79\n",
      "PINKFONG Birthday Party  :  70\n",
      "Hopster: Kids TV, Nursery Rhymes, Music, Fun Games  :  58\n",
      "Sago Mini Holiday Trucks and Diggers  :  56\n",
      "Dr. Panda Toy Cars Free  :  51\n",
      "Virry Educational. Play, learn with real animals  :  50\n",
      "Highlights Monster Day  :  49\n",
      "PlayKids Learn - Learning through play  :  49\n",
      "PBS KIDS ScratchJr  :  38\n",
      "Lemon Lumberjack's Letter Mill  :  34\n",
      "Ready Jet Go! Space Explorer  :  34\n",
      "Chinese Recipes - Asian cuisine  :  32\n",
      "Nature Cat's Great Outdoors  :  31\n",
      "Show My Homework  :  17\n",
      "PINKFONG 123 Numbers  :  17\n",
      "Aquarium VR  :  12\n",
      "Little Panda Mini Games-3D  :  9\n",
      "Stylish School Timetable  :  7\n",
      "Merry Christmas -Activities  :  7\n",
      "Mastering the piano with Lang Lang  :  6\n",
      "Baby Panda's Carnival  :  6\n",
      "Driving test 2017  :  5\n",
      "Cutie Patootie - Xmas Surprise  :  5\n",
      "Free IQ Test: Calculate your IQ  :  5\n",
      "Beautiful Japanese Handwriting for iPhone  :  0\n",
      "GhostCallDX  :  0\n",
      "Baby Learns Transportation  :  0\n",
      "Baby Panda's Bath Time  :  0\n",
      "Beautiful Japanese Handwriting  :  0\n",
      "Spring Festival by BabyBus  :  0\n",
      "Dinosaur Planet  :  0\n"
     ]
    }
   ],
   "source": [
    "# 5th place, avg_rating : 7003.983050847458\n",
    "#\n",
    "for app in appstore_fin:\n",
    "    if app[-5] == 'Education':\n",
    "        print(app[1], ' : ', app[5])"
   ]
  },
  {
   "cell_type": "markdown",
   "metadata": {},
   "source": [
    "### Recommendation"
   ]
  },
  {
   "cell_type": "markdown",
   "metadata": {},
   "source": [
    "From the top 5 installation genres, we find that navigation and social networking are dominated by several large companies. I think it's a bit heavy for new applications to compete.  \n",
    "\n",
    "As an alternative, we can create new applications with the Reference, Business, or Education categories, because in these categories, the makers tend to vary. Moreover, many ideas can be developed from these three categories. Such as making books, business planning or fresh educational platforms."
   ]
  },
  {
   "cell_type": "code",
   "execution_count": null,
   "metadata": {},
   "outputs": [],
   "source": []
  }
 ],
 "metadata": {
  "kernelspec": {
   "display_name": "Python 3",
   "language": "python",
   "name": "python3"
  },
  "language_info": {
   "codemirror_mode": {
    "name": "ipython",
    "version": 3
   },
   "file_extension": ".py",
   "mimetype": "text/x-python",
   "name": "python",
   "nbconvert_exporter": "python",
   "pygments_lexer": "ipython3",
   "version": "3.7.4"
  }
 },
 "nbformat": 4,
 "nbformat_minor": 2
}
